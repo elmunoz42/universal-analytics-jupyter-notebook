{
 "cells": [
  {
   "cell_type": "code",
   "execution_count": 10,
   "id": "7f1987fc-7507-4b6d-9872-c3024de36956",
   "metadata": {},
   "outputs": [],
   "source": [
    "# SETUP...\n",
    "from IPython.display import display, HTML\n",
    "def display_html_plot(file_path):\n",
    "    with open(file_path, 'r') as f:\n",
    "        html_string = f.read()\n",
    "    display(HTML(html_string))"
   ]
  },
  {
   "cell_type": "code",
   "execution_count": null,
   "id": "efd6904d-bb95-4c4b-a60d-507d801d3920",
   "metadata": {},
   "outputs": [],
   "source": [
    "# SUMMARY REPORT\n",
    "\n",
    "# This is a summary report based on the 36 quarterly exports from Google Universal Analytics for Pages, Landing Pages, Events/Conversions, \n",
    "# and the Sources/Mediums (aka All Traffic) reports.\n",
    "\n",
    "# The data is stored in the individual CSV files and also within this Report folder there are summary csv files which consolidate all the quarters."
   ]
  },
  {
   "cell_type": "code",
   "execution_count": 1,
   "id": "105efd83-4e10-4be6-a5f6-8b6844363768",
   "metadata": {},
   "outputs": [],
   "source": [
    "# Page Performance by Quarter\n",
    "\n",
    "# Below you can see a graph of the performance of different pages quarter by quarter. Hover on the graph to see details.\n",
    "\n",
    "# display_html_plot('example-page-performance.html')"
   ]
  },
  {
   "cell_type": "code",
   "execution_count": 2,
   "id": "ad4a9098-4d23-43fa-b6fb-d85efa04e9c3",
   "metadata": {},
   "outputs": [],
   "source": [
    "# Landing Page Performance by Quarter\n",
    "\n",
    "# Below you can see a graph of the performance of different pages quarter by quarter. Hover on the graph to see details.\n",
    "\n",
    "# display_html_plot('example-landing-pages.html')"
   ]
  },
  {
   "cell_type": "code",
   "execution_count": 3,
   "id": "f2bc6c27-c98f-4513-b341-a953fa6d1165",
   "metadata": {},
   "outputs": [],
   "source": [
    "# Goal Completions by Quarter\n",
    "\n",
    "# Below you can see a graph of the performance of the conversions. Hover on the graph to see details.\n",
    "\n",
    "# display_html_plot('example-goal-urls.html')"
   ]
  },
  {
   "cell_type": "code",
   "execution_count": 5,
   "id": "019ae8bb-5247-4652-8e57-320e606d0f95",
   "metadata": {},
   "outputs": [],
   "source": [
    "# Sources and Mediums by Quarter\n",
    "\n",
    "# Below you can see a graph of the performance of the conversions. Hover on the graph to see details.\n",
    "\n",
    "# display_html_plot('example-sources-mediums.html')"
   ]
  },
  {
   "cell_type": "code",
   "execution_count": null,
   "id": "33544df6-7c1f-4a10-889e-e45765b3e337",
   "metadata": {},
   "outputs": [],
   "source": []
  }
 ],
 "metadata": {
  "kernelspec": {
   "display_name": "Python 3 (ipykernel)",
   "language": "python",
   "name": "python3"
  },
  "language_info": {
   "codemirror_mode": {
    "name": "ipython",
    "version": 3
   },
   "file_extension": ".py",
   "mimetype": "text/x-python",
   "name": "python",
   "nbconvert_exporter": "python",
   "pygments_lexer": "ipython3",
   "version": "3.11.7"
  }
 },
 "nbformat": 4,
 "nbformat_minor": 5
}
