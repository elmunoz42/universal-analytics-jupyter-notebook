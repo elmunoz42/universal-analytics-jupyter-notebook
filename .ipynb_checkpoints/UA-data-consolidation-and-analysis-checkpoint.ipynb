{
 "cells": [
  {
   "cell_type": "code",
   "execution_count": 15,
   "id": "386174b5-c603-4a54-8cf3-2a42e46eb0fc",
   "metadata": {},
   "outputs": [
    {
     "ename": "ModuleNotFoundError",
     "evalue": "No module named 'helper_functions'",
     "output_type": "error",
     "traceback": [
      "\u001b[0;31m---------------------------------------------------------------------------\u001b[0m",
      "\u001b[0;31mModuleNotFoundError\u001b[0m                       Traceback (most recent call last)",
      "Cell \u001b[0;32mIn[15], line 7\u001b[0m\n\u001b[1;32m      5\u001b[0m \u001b[38;5;28;01mimport\u001b[39;00m \u001b[38;5;21;01mos\u001b[39;00m\n\u001b[1;32m      6\u001b[0m \u001b[38;5;28;01mfrom\u001b[39;00m \u001b[38;5;21;01mdatetime\u001b[39;00m \u001b[38;5;28;01mimport\u001b[39;00m datetime\n\u001b[0;32m----> 7\u001b[0m \u001b[38;5;28;01mimport\u001b[39;00m \u001b[38;5;21;01mhelper_functions\u001b[39;00m \u001b[38;5;28;01mas\u001b[39;00m \u001b[38;5;21;01mhs\u001b[39;00m\n",
      "\u001b[0;31mModuleNotFoundError\u001b[0m: No module named 'helper_functions'"
     ]
    }
   ],
   "source": [
    "import pandas as pd\n",
    "import numpy as np\n",
    "import plotly as plt\n",
    "import seaborn as sns\n",
    "import os\n",
    "from datetime import datetime\n",
    "import helper_functions as hs"
   ]
  },
  {
   "cell_type": "code",
   "execution_count": null,
   "id": "d020acbc-3952-4ed2-addd-a73d8f4a7d42",
   "metadata": {},
   "outputs": [],
   "source": [
    "# Read the CSV file\n",
    "df = pd.read_csv('your_file.csv', \n",
    "                 skiprows=6,              # Skip the first 6 rows\n",
    "                 nrows=11,                # Read only 11 rows (from 7th to 17th)\n",
    "                 thousands=',',           # Handle thousands separator\n",
    "                 encoding='utf-8-sig')    # Handle potential BOM in UTF-8 files\n",
    "\n",
    "# Display the DataFrame\n",
    "print(df)"
   ]
  },
  {
   "cell_type": "code",
   "execution_count": 12,
   "id": "bed482da-f234-46e7-9924-2ebb55603bad",
   "metadata": {},
   "outputs": [
    {
     "name": "stdout",
     "output_type": "stream",
     "text": [
      "Processing file: data/flora/flora-pages/Pages/Analytics Flora Bowley Pages 20211001-20211231.csv\n",
      "Successfully processed Analytics Flora Bowley Pages 20211001-20211231.csv\n",
      "Processing file: data/flora/flora-pages/Pages/Analytics Flora Bowley Pages 20220101-20220331.csv\n",
      "Successfully processed Analytics Flora Bowley Pages 20220101-20220331.csv\n",
      "Processing file: data/flora/flora-pages/Pages/Analytics Flora Bowley Pages 20210101-20210331.csv\n",
      "Successfully processed Analytics Flora Bowley Pages 20210101-20210331.csv\n",
      "Processing file: data/flora/flora-pages/Pages/Analytics Flora Bowley Pages 20210401-20210630.csv\n",
      "Successfully processed Analytics Flora Bowley Pages 20210401-20210630.csv\n",
      "Processing file: data/flora/flora-pages/Pages/Analytics Flora Bowley Pages 20210701-20210930.csv\n",
      "Successfully processed Analytics Flora Bowley Pages 20210701-20210930.csv\n",
      "Processing file: data/flora/flora-pages/Pages/Analytics Flora Bowley Pages 20220401-20220630.csv\n",
      "Successfully processed Analytics Flora Bowley Pages 20220401-20220630.csv\n",
      "Processing file: data/flora/flora-pages/Pages/Analytics Flora Bowley Pages 20220701-20220930.csv\n",
      "Successfully processed Analytics Flora Bowley Pages 20220701-20220930.csv\n",
      "Columns in the combined DataFrame:\n",
      "['Page', 'Pageviews', 'Unique Pageviews', 'Avg. Time on Page', 'Entrances', 'Bounce Rate', '% Exit', 'Page Value', 'Year', 'Quarter']\n",
      "Saved consolidated data to output/flora/flora-pages/Pages/consolidated-pages.csv\n"
     ]
    }
   ],
   "source": [
    "# Usage\n",
    "try:\n",
    "    df = hs.build_ua_pages_dataframe('flora/flora-pages/Pages/')\n",
    "    # print(df.head())\n",
    "    # print(df.dtypes)\n",
    "except ValueError as e:\n",
    "    print(f\"Error: {str(e)}\")"
   ]
  },
  {
   "cell_type": "code",
   "execution_count": null,
   "id": "0a1ff288-99a7-45ba-861b-bf90be53a084",
   "metadata": {},
   "outputs": [],
   "source": []
  }
 ],
 "metadata": {
  "kernelspec": {
   "display_name": "Python 3 (ipykernel)",
   "language": "python",
   "name": "python3"
  },
  "language_info": {
   "codemirror_mode": {
    "name": "ipython",
    "version": 3
   },
   "file_extension": ".py",
   "mimetype": "text/x-python",
   "name": "python",
   "nbconvert_exporter": "python",
   "pygments_lexer": "ipython3",
   "version": "3.11.7"
  }
 },
 "nbformat": 4,
 "nbformat_minor": 5
}
